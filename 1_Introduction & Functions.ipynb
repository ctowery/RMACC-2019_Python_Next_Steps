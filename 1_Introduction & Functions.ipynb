{
 "cells": [
  {
   "cell_type": "markdown",
   "metadata": {},
   "source": [
    "<h1 align=\"center\">An Application Based Approach to Object Oriented Programming<br> and Advanced Tools for Python3\n",
    "</h1> "
   ]
  },
  {
   "cell_type": "markdown",
   "metadata": {},
   "source": [
    "# Introduction:\n",
    "First a disclaimer, this class is actually designed for two, two hour sessions. having said that by the end you will still accomplish, at least conceptually, all the content of the full four hours of material!\n",
    "\n",
    "The goal of this class  coincides with the first section of material so we will cover it in detail with only a few user facing Exercises being removed towards the end for the hopes of a quick peek at, in my opinion the cooler stuff and something that much better demonstrates the goals for the first half.\n",
    "\n",
    "**Goals**: The intended goal of the first section is to learn about functions in the aspect of Object Oriented Design (OOD) and Programming (OOP). This will lead us into classes. Along the way we will explore all kinds of other  Python magical tools, tips and tricks. Some you may have heard of or seen in passing and I'm hoping some cool stuff brand new to you!\n",
    "\n",
    "The second, and not barely included,section digs much deeper into the rules of classes including more on subclassing, multiple file applications along with the creation of packages and modules, callback functions via signals and slots, and other built-in class functions all while learning who to quickly and easily build PyQt base GUI's for applications. It wraps up, and this last section is included, with profiling, speed improvements and an introduction on how to think of ways to cheat faults in code design using other Python features, in this case using static and class methods. \n",
    "\n",
    "This wraps up with what will eventually be a new class oriented at advanced performance enhancements and auto-document creation with Sphinx for Python. \n",
    "\n"
   ]
  },
  {
   "cell_type": "markdown",
   "metadata": {},
   "source": [
    "## Object Oriented (OO) Terminology\n",
    "\n",
    "The orientation of the following terms is centered on the concept of designing/constructing code that acts on a set of data to produce a new set of data derived from the original including extending, subsetting, joining multiple datasets, describing the original data as new data (e.q. mathematical transformations) or as a graphical interpretation.\n",
    "\n",
    "**Object:** Potentially any coded constructed (at least in Python). Examples of objects can be variable, a function, a class, a succinct block of memory (usually in RAM but this concept can be extended to a block of memory in certain file structures such as those in HDF5 and netCDF), a data structure, ect...\n",
    "\n",
    "**Object Oriented Design (OOD):** OOD is the process of designing a solution to a software problem, either a full program (or script) or a component used in one. The process is centered around the creation and interaction of interacting objects. In the ideal world (usually non-practical in the production world) each object is 100% self contained and prevents unauthorized and 'non-clean' intrusions of data in or out.\n",
    "\n",
    "**Object Oriented Programming (OOP):** The use of applying a programming language to physically construct the design laid out from and OOD process. More specifically it is the application of using, or creating, a languages objects to create the OOD specified methods (e.g classes, functions, ect) driven by a set of attributes (eg variables, data-structures, other methods/method instances). \n",
    "\n",
    "**Attributes:** The variables or variable instances (of other variables, data-structures, or even methods) used to describe a an active feature of inside a method. Most often thought of as a ***'class variable'*** which is synonymous with the term ***'class member'***.\n",
    "\n",
    "**Class:** A OOD designed prototype created as the core base in an OOP process that defines all the attributes and methods that characterize the desired object.\n",
    "\n",
    "**Inheritance/Subclassing:** Inheritance is the ability to create a new class that inherits both the attributes and methods from another class. The class to be inherited from is known as the *'super class'* (also referred to as a *'base class'*, or *'parent class'*) The new class is usually referred to as the *'child class'.\n",
    "\n",
    "**Instantiation:** The act of create an *'instance'* of a class. This is usually seen as creating a variable as an 'object' representing that class. A class can be instantiated by many instance, each unique from the others. however each instance can only represent one unique object/class at a time.\n",
    "\n",
    "**Method:** Basically today we will just refer to methods as functions defined within a class object.\n",
    "\n",
    "**Overloading/overriding:** The ability to create more then one function for a given operation. For instance creating a base class with an 'add' function to add two scalars. You then create a subclass off the base class and now overload/overwrite 'add' so it can add to vectors.\n",
    "\n",
    "There are pages and pages of other important terminology you should explore to become truly proficient programmers but this 'should' suffice for todays material."
   ]
  },
  {
   "cell_type": "markdown",
   "metadata": {},
   "source": [
    "If you have done any coding in Python (and its assumed you have, hence why you are here) then you have already made use of functions, classes, instances, and well everything we described in the terminology section. The trick now is to learn to create the rich toolsets you need derived from the OO tools Python so extremely richly provides us with.\n",
    "\n",
    "In fact everything in Python is object based and the interfaces to all those objects are so transparent that there are all kinds of magical things you can do, many of which are sheer coincidental accidents but ohhh so cool. You will actually make miraculous use of such a 'happy accident' today!\n"
   ]
  },
  {
   "cell_type": "markdown",
   "metadata": {},
   "source": [
    "## First Steps - FUNCTIONS"
   ]
  },
  {
   "cell_type": "markdown",
   "metadata": {},
   "source": [
    "First an example you have all probably used a thousand times by now."
   ]
  },
  {
   "cell_type": "code",
   "execution_count": null,
   "metadata": {},
   "outputs": [],
   "source": [
    "import numpy as np\n",
    "\n",
    "a = np.sin(0.2345)\n",
    "print('a=: {}'.format(a))"
   ]
  },
  {
   "cell_type": "markdown",
   "metadata": {},
   "source": [
    "Numpy is a 'package' of modules which contain classes (again speaking generically and not perfectly nor specifically).<br>\n",
    "- You load the entire package(in this case) with 'import numpy'.\n",
    "- Furthermore you create an instance of the numpy package by creating a variable 'np' which is an object of the entire package.\n",
    "- Next you use your instance of numpy to call a specific method 'sin' passing it what will become in the sin function an attribute '0.2345'.\n",
    "- The sin method returns a value which we store as a instance of the result in a new variable 'a'.\n",
    "- Finally, although we call another base/core python method 'print' which is a class to print the instance of the returned value. One step further down this road we are actually not only calling the print class but we are making use of a specific function, 'format' to provide us with formated text when printed.\n"
   ]
  },
  {
   "cell_type": "markdown",
   "metadata": {},
   "source": [
    "## An important note on how we will be 'printing' in this workshop\n",
    "\n",
    "With Python there are always a gazillion (probably more) ways to do anything and most everything. Printing is a grand example of this. Even worse in Jupyter and/or in python consoles there a few extra way to print things.<br>\n",
    "Since we are working with Python I will be working with the preferred Python3 way of printing (well at least by some pythonic guru camps). I have actually fallen in love with this method and now use it pretty much exclusively.<br>\n",
    " \n",
    "***Format:***<br>\n",
    "print('*text* {}'.format(*varable*))<br>\n",
    "\n",
    "The formatting part can be done in a few ways:<br>\n",
    "I"
   ]
  },
  {
   "cell_type": "code",
   "execution_count": null,
   "metadata": {},
   "outputs": [],
   "source": [
    "x=1; y='Cool'; zPi=np.pi\n",
    "\n",
    "print('x: {}\\ny: {}\\nz: {:0.2f}'.format(x,y,zPi))"
   ]
  },
  {
   "cell_type": "code",
   "execution_count": null,
   "metadata": {},
   "outputs": [],
   "source": [
    "print('x: {x}\\ny: {y}\\nz: {zed:0.2f}'.format(x=x,y=y,zed=zPi))"
   ]
  },
  {
   "cell_type": "markdown",
   "metadata": {},
   "source": [
    "Important things to note from the above. \n",
    "- The text string included '\\n' which is the ascii escape symbol for a newline. All escape chacters work in these strings.\n",
    "- You can either not specify the each substitution block with an identifier or you can name it. They donot have to be the same name as the variables.\n",
    "- Not only can you use escape character you can use c-style numeric formating. In the case above we restricted the printout of floating point instance of pi to just 2 sigfigs.<br>\n",
    "\n",
    "There are more things you can done with this particular method of print but thats what Google is for :)\n"
   ]
  },
  {
   "cell_type": "markdown",
   "metadata": {},
   "source": [
    "Actually one last extremely important note. You can use this basic setup to construct strings (as variables) which can be used for, well whatever you need a string for.<br>\n",
    "**Example**\n"
   ]
  },
  {
   "cell_type": "code",
   "execution_count": null,
   "metadata": {},
   "outputs": [],
   "source": [
    "lat = 40.012\n",
    "lon = 105.073\n",
    "myTitle = ('Latitude={}    Longitude={}'.format(lat,lon))\n",
    "print(myTitle)"
   ]
  },
  {
   "cell_type": "markdown",
   "metadata": {},
   "source": [
    "## Function Syntax\n",
    "\n",
    "```python\n",
    "def function_name(parameters):\n",
    "    \"\"\"DocString\"\"\"\n",
    "    function code\n",
    "    return [variables or other objects]\n",
    "```"
   ]
  },
  {
   "cell_type": "markdown",
   "metadata": {},
   "source": [
    "- ***def*** Literally def stands for define. This is required so that Python knows you are about to define a new function.\n",
    "- ***function_name*** This is the name of your function.\n",
    "\n",
    "- ***parameter*** This is actually optional (with a mandatory <and we'll also prove that wrong> exception with functions in classes. All variables that need 'passed' into the function are placed here. Regardless of having 0 to a thousand passed parameters the '()' are required!\n",
    "- ***:*** The colon is mandatory and signifies the end of the instantiation/declaration of the function and the beginning of the actual code for the function.\n",
    "- ***\"\"\"DocString\"\"\"*** For functions and classes there is a special comment called a docstring which is placed right after you declare your method and parameters list. Its starts and ends with 3 double quotes \"\"\" \"\"\". We will discuss, very briefly, what the docstring holds, what it provides and what can be done with it in just a bit.\n",
    "- ***function code*** This is exactly what it sounds like, the actual code the function is preform.\n",
    "- ***return*** This also is actually optional but it is where you return any variables or other objects. The cool thing about Python is that you can pass most anything and everything that the function has access to.\n",
    "\n",
    "\n"
   ]
  },
  {
   "cell_type": "markdown",
   "metadata": {},
   "source": [
    "### Styling Notes\n",
    "There are no\n",
    "hard coded rules on how you name variables, functions, classes, modules, packages, ect. In fact it will vary slightly from language to language. Worse then that it will vary from project to project. If you find yourself working in the production coding world and you start a new project one of the very first things you should ask is to read the 'styles' guide. Thats assuming (and you know the old adage on \"assuming\" they have one. In lack of that make sure you sit down with someone to learn their 'style' of coding and then make sure you adopt it!!!<br>\n",
    "I personally work with a LOT of major production groups producing code with c, c++ and python (also javascript but I never admitted that!) and they all have different styles for everything! The worst thing you can do is have multiple styles in code you are creating. Yet you will undoubtedly see me doing it just in this workshop alone - sorry!<br>\n",
    "\n",
    "Now my best advise is build great habits from the beginning when it comes to name and code styling. And in many, as well as my opinion, the best naming reference and styling guides for Python are;\n",
    "- **PEP (Python Enhancement Proposals):** In particular PEP8 which is the proposed style guide for Python. https://pep8.org/\n",
    "\n",
    "- **Google Python Style Guide:** http://google.github.io/styleguide/pyguide.html\n",
    "\n",
    "One last note on my style for today. I do a lot of coding in c/c++ and Fortran so I'm highly partial to making my Python code look like my other code unless theres extreme advantages of going 'more' pythonic and we will have need of that later. The advantage is if I find I want/need to convert it to c/c++ its vastly easier. Cons, if I'm working with, or in some form sharing, my code with Python purists that insist all things be purely Pythonic else it's garbage (OK they are not that extreme at all but---) then conversations can get highly 'personal' and its best to leave things at that."
   ]
  },
  {
   "cell_type": "markdown",
   "metadata": {},
   "source": [
    "## Example\n",
    "\n",
    "In this first example we will create a simple function and then expand on what a function has to offer before digging into the project we will be working through the rest of the day."
   ]
  },
  {
   "cell_type": "code",
   "execution_count": null,
   "metadata": {},
   "outputs": [],
   "source": [
    "def llamallamaName(name):\n",
    "    \"\"\"Creates, displays and returns the LlamaLlama name passed in\n",
    "    \n",
    "    Parameters:\n",
    "    name (string) = The name to translate into its LlamaLlama name\n",
    "    \n",
    "    Returns:\n",
    "    llamaName (string) - The translated LlamaLlama name\n",
    "    \"\"\"\n",
    "    \n",
    "    llamaName = ('LlamaLlama{}'.format(name))\n",
    "    print('My LlamaLlama name is {}'.format(llamaName))\n",
    "    return llamaName\n",
    "\n",
    "llName = llamallamaName('Tim')\n",
    "print(llName)"
   ]
  },
  {
   "cell_type": "markdown",
   "metadata": {},
   "source": [
    "### Passing by Reference and the Concept of Scope\n",
    "\n",
    "By Python definition parameters sent into a function is passed by 'reference'. The best way to think of this, at this level, is that the variable parameter 'refers' to the data or variable that was used when calling the function. <br>\n",
    "This brings up the concept of *'scope'*. Scope means where or who can see or access a variable. We are not going to really dig into this important concept but if you pay attention you will see it in action in everything you do. It's basic rules should be understood in heavier programming as when you go to debug python, or other, programs you will find that scope is a major cause of many problems you will create, err encounter.<br>\n",
    "In our case name has scope only inside the function. You have absolutely no way, as it is currently written to know what name is nor what happens to it outside the function. <br>\n",
    "Such a variable inside a function is *Local* to that function only. As you will see in a class a variable can be local to not just the class but also all the methods(functions) in the class.<br>\n",
    "\n",
    "Theres also a concept of *Global* variables which are variables which can be used anywhere within a program. This gets into a stick area in Python and in C++ often becomes taboo (even when you absolutely require them!)\n",
    "What it does not mean is that name is a static constant within the 'scope' of the function. As you will see below we can change (sort of override) *name* into something else. This is a dangerous thing to do as at some point there was a reason the function was designed to get name from the outside world and you now are *stomping* on it.\n",
    "\n"
   ]
  },
  {
   "cell_type": "code",
   "execution_count": null,
   "metadata": {},
   "outputs": [],
   "source": [
    "def llamallamaName(name):\n",
    "    \"\"\"Creates, displays and returns the LlamaLlama name passed in\n",
    "    \n",
    "    Parameters:\n",
    "    name (string) = The name to translate into its LlamaLlama name\n",
    "    \n",
    "    Returns:\n",
    "    llamaName (string) - The translated LlamaLlama name\n",
    "    \"\"\"\n",
    "    name = 'Sue'\n",
    "    llamaName = ('LlamaLlama{}'.format(name))\n",
    "    print('My LlamaLlama name is {}'.format(llamaName))\n",
    "    return llamaName\n",
    "\n",
    "name = 'Tim'\n",
    "llName = llamallamaName(name)\n",
    "print('name: {}'.format(name))\n",
    "print('llName: {}'.format(llName))"
   ]
  },
  {
   "cell_type": "markdown",
   "metadata": {},
   "source": [
    "### Default Values for Parameters\n",
    "\n",
    "Function input parameters can have a default value. This default value will be a value that the parameter will take if no input was given. The one major caveat of this is that all parameters after the first to have a default value must also be assigned a default value. "
   ]
  },
  {
   "cell_type": "code",
   "execution_count": null,
   "metadata": {},
   "outputs": [],
   "source": [
    "def llamallamaName(first_name, last_name='Pajama'):\n",
    "    \"\"\"Creates, displays and returns the LlamaLlama name passed in\n",
    "    \n",
    "    Parameters:\n",
    "    first_name (string) = The first name to translate into its LlamaLlama name\n",
    "    last_name (string) = The last name to translate into its LlamaLlama name\n",
    "    \n",
    "    Returns:\n",
    "    llamaName (string) - The translated LlamaLlama name\n",
    "    \"\"\"\n",
    "    \n",
    "    llamaName = ('LlamaLlama{}{}'.format(first_name, last_name))\n",
    "    print('My LlamaLlama name is {}'.format(llamaName))\n",
    "    return llamaName\n",
    "\n",
    "llName = llamallamaName('Red')"
   ]
  },
  {
   "cell_type": "markdown",
   "metadata": {},
   "source": [
    "### Keyword Parameters\n",
    "A *key* parameter a parameter for which the name of the parameter is being used to explicitly define which parameter the associated variable is meant to go to."
   ]
  },
  {
   "cell_type": "code",
   "execution_count": null,
   "metadata": {},
   "outputs": [],
   "source": [
    "def llamallamaName(first_name, foo_var = 'Foo', last_name='Pajama'):\n",
    "    \"\"\"Creates, displays and returns the LlamaLlama name passed in\n",
    "    \n",
    "    Parameters:\n",
    "    first_name (string) = The first name to translate into its LlamaLlama name\n",
    "    last_name (string) = The last name to translate into its LlamaLlama name\n",
    "    \n",
    "    Returns:\n",
    "    llamaName (string) - The translated LlamaLlama name\n",
    "    \"\"\"\n",
    "    foo_var = ('Little Bunny {}'.format(foo_var*2))\n",
    "\n",
    "    llamaName = ('LlamaLlama{}{}'.format(first_name, last_name))\n",
    "    print('My LlamaLlama name is {}'.format(llamaName))\n",
    "    return llamaName\n",
    "\n",
    "llName = llamallamaName(first_name = 'Mama', last_name='Llama')"
   ]
  },
  {
   "cell_type": "markdown",
   "metadata": {},
   "source": [
    "### Variable Length Parameters\n",
    "\n",
    "So, Question; What do you do if you have 167 variables you need to pass to a function? (Note, as you will find shortly I did not just pull 167 parameters out of a random number generator!)<br>\n",
    "Answer: You pass them all into a single parameter!<br>\n",
    "All you need to do to accomplish this is add an asterisk in front of your parameter name. Well thats the easy part anyways. after that you need to be able to parse all those variables out from your parameter. \n"
   ]
  },
  {
   "cell_type": "code",
   "execution_count": null,
   "metadata": {},
   "outputs": [],
   "source": [
    "def llamallamaNames(*args):\n",
    "    \"\"\"Creates, displays and returns the LlamaLlama name passed in\n",
    "    \n",
    "    Parameters:\n",
    "    *args - A list of names to translate to LlamaLlama names.\n",
    "    \n",
    "    Returns:\n",
    "    llamaName (string) - The translated LlamaLlama name\n",
    "    \"\"\"\n",
    "    for name in args:\n",
    "        llamaName = ('LlamaLlama{}'.format(name))\n",
    "        print('LlamaLlama name is {}'.format(llamaName))\n",
    "    \n",
    "\n",
    "llamallamaNames('Tim', 'Kayla', 'Mama','FooFoo','RedPajamas')"
   ]
  },
  {
   "cell_type": "markdown",
   "metadata": {},
   "source": [
    "# LlamaLlama - *WHAT-WHAT???*\n",
    "Before leaving this module and moving on to bigger and more magical things, What the heck is the deal with LlamaLlama? I have a nephew that just had there first baby (my parents first great grandchild) and Gabby, the mother, asked everyone to buy books for the baby shower. I found this book called llama Llama Red Pajama written by Anna Dewdney and had so much fun reading it I've become addicted to it. And I'm not the only one that enhjoyed it. If you want to have some real fun watch Ludacris read/rap the book.<br>\n",
    "https://www.youtube.com/watch?v=PFtHeo7oMSU<br>\n",
    "https://www.youtube.com/watch?v=kfN2UTDI7-w<br>\n",
    "OK, wierd even to me, and I'm just sick and wrong by definition, Llama Llama Red Pajama rapping seems to be a '*thing*' to do amoung rappers on YouTube."
   ]
  }
 ],
 "metadata": {
  "kernelspec": {
   "display_name": "Python 3",
   "language": "python",
   "name": "python3"
  },
  "language_info": {
   "codemirror_mode": {
    "name": "ipython",
    "version": 3
   },
   "file_extension": ".py",
   "mimetype": "text/x-python",
   "name": "python",
   "nbconvert_exporter": "python",
   "pygments_lexer": "ipython3",
   "version": "3.6.5"
  }
 },
 "nbformat": 4,
 "nbformat_minor": 2
}
