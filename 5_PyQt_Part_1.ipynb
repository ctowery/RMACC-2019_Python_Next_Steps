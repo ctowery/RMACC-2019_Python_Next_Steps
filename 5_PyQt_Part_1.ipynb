{
 "cells": [
  {
   "cell_type": "markdown",
   "metadata": {},
   "source": [
    "# 5-8_PyQt - Constructing a GUI to Encapsulate our Strange Attractor Code\n",
    "<br>\n",
    "<img src=\"Images/sm_GUI_SS.png\" style=\"height:300px\">"
   ]
  },
  {
   "cell_type": "markdown",
   "metadata": {},
   "source": [
    "Sorry folks this whole 2 hour set of sections is for an entirely different session which I will hold via CRRDS sometime in the semi-near future.\n",
    "\n",
    "However, time permitting I'll quickly show the basic concepts on how insanely easy it is to create gui'es for your python code (or c\\c++). (Well except when its really really not and somtimes is dang near impossible and takes you months(or even years) to create a new widget or set of widget constructs!) \n",
    "\n",
    "If you are interested in learning more follow the CRDDS (CU's Center for Data Research and Digital Scholarship) 'events' schedule.<br> https://www.colorado.edu/crdds/\n",
    "\n",
    "All of the code used to create the gui'ed application can be found in the ST_GUI folder.<br>\n",
    "To run the application cd into the ST_GUI folder and run the main.py file.\n",
    "\n",
    "\\>python main.py\n"
   ]
  }
 ],
 "metadata": {
  "kernelspec": {
   "display_name": "Python 3",
   "language": "python",
   "name": "python3"
  },
  "language_info": {
   "codemirror_mode": {
    "name": "ipython",
    "version": 3
   },
   "file_extension": ".py",
   "mimetype": "text/x-python",
   "name": "python",
   "nbconvert_exporter": "python",
   "pygments_lexer": "ipython3",
   "version": "3.6.5"
  }
 },
 "nbformat": 4,
 "nbformat_minor": 2
}
