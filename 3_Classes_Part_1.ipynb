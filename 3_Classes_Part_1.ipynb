{
 "cells": [
  {
   "cell_type": "markdown",
   "metadata": {},
   "source": [
    "<h1 align=\"center\">Classes Part 1      </h1>\n",
    "\n",
    "Classes simply put are rich objects which bundle both data and functionality on that data up into a nice little shiny package. Classes have the ability to house variables at a class based global level (member variables) as well as methods. In Python when you create a class it really is a subclass (more on that later) of an *Object* class. Thats means it comes complete with a bunch of hidden features you can employ. <br> \n",
    "To use a class you need to create a unique *instance* of that class. That means that you can actually create several instances of a class, all at the same time but they are all unique individual instances and unless the code has a funky communication pipeline they know nothing of each other!\n"
   ]
  },
  {
   "cell_type": "markdown",
   "metadata": {},
   "source": [
    "## Mutability\n",
    "A quick word on classes and be *mutable*, meaning the ability of the class to change or for it to stay the same *immutable*. Consider a class that deals with numbers. Those numbers will be static, unchanging (such as ints, floats, doubles, ect...). Such classes are immutable. But what if we create a new data structure which uses, say floats, to create an array? Arrays can can sizes and members all they want among a host of other cool features. These classes are mutable thanks to a process often, at least in the c/c++ worlds, as *aliasing*, yet they hold immutable data members. \n",
    "\n",
    "We are not going to deal much with mutability this time round but its an important topic in the world of class design."
   ]
  },
  {
   "cell_type": "markdown",
   "metadata": {},
   "source": [
    "## Class Scope and NameSpaces\n",
    "\n",
    "We will actually discuss namespaces and class scope as we go along. I mention it here as its extremely important and I'm hoping that adding a special section will help your remember it in your future Python adventures.\n",
    "\n",
    "Oh yeah, that and the more honest fact I'm still developing this training series.#Cl"
   ]
  },
  {
   "cell_type": "markdown",
   "metadata": {},
   "source": [
    "## Class Syntax - A Class Definition\n",
    "\n",
    "Creating a class is as simple as a function. Instead of using the *def* preamble we replace it with a *class* preamble. We end the declaration line with a colon as we do with all multi-line functionality in Python and then add all our code. \n",
    "\n",
    "So the base skeleton looks like this:<br>\n",
    "\n",
    "```python\n",
    "class ClassName:\n",
    "    <code line 1>\n",
    "        .\n",
    "        .\n",
    "        .\n",
    "    <last line of code>\n",
    "```"
   ]
  },
  {
   "cell_type": "markdown",
   "metadata": {},
   "source": [
    "### Class As Objects - Multiple Inheritance/SubClassing\n",
    "\n",
    "Classes are in them selves inherently a Python '*object*' and if you are wondering, yep, object is itself a class. When you create a new class object in Python it defaults to inheriting from the Object class. What that means is that object has all kinds of cool methods under its hood and when you create your new class its literally a '*child*' of it's '*parent*' class - object. \n",
    "\n",
    "HOWEVER, the story does not end there. Your class does not have to be a generic object child class. It can inherit from any class you desire (sort of). In fact most kids I know have more then one parent and likewise classes can be subclassed from multiple classes all at the same time. This is where the real power in programming comes into play. But with all real power comes real dangers. Happily, as long as you have a decent map of the class terrain you want to tread one you can usually plot a safe course. \n",
    "\n",
    "So more strictly speaking your class really looks like this.\n",
    "\n",
    "```python\n",
    "class ClassName(object):\n",
    "    <code line 1>\n",
    "        .\n",
    "        .\n",
    "        .\n",
    "    <last line of code>\n",
    "```\n",
    "\n",
    "But as long as you are creating a generic class you are not required to add the '*(Object)*' to your class declaration.\n",
    "\n",
    "We will actually look at subclassing from other classes shortly!\n",
    "\n",
    "***WHAT I'M NOT TELLING YOU:*** There is actually a bit more to creating a class with 'object' and not specifically adding it. There are actually 2 different classes of classes at play here but going down those rabbit holes requires a full day workshop to even think about dealing with them. But be warned you really should Google this one!"
   ]
  },
  {
   "cell_type": "markdown",
   "metadata": {},
   "source": [
    "## Instantiation and the All Important Concept of Self!\n",
    "\n",
    "The class stands alone component in the application framework and only plays with everyone else when its called upon. The calling of a class is called *instantiation* because we literally create a unique instance of it. This instance is encompassed by a lowly, yet yet now all powerful variable.\n",
    "\n",
    "To instantiatate our toy class above we would create an instance of it like this:\n",
    "```python\n",
    "myClass = ClassName()\n",
    "```\n",
    "\n",
    "Yep thats right you have been doing this is the first day you have done any Python, and likely in many other languages as well. OK, so way all the hub bub about it now? Well now we need to start digging into the meat of creating classes!\n",
    "\n",
    "You have now created a special instance of the class and you can work like you always do, if you use other people classes. But for your own classes we have to understand and deal with a few special needs of classes. The first and most important in understanding how classes really work is the concept of ***self***.\n",
    "\n",
    "As mentioned earlier an instance of the class is unique to its creation even if you have 1000 instances of your class running loss. Your instance of your class needs to know who it is and it gets extremely insecure (literally) when it does not know who it is. Thus a class and all it's members whether variables of methods needs to know its *self*.\n",
    "\n",
    "To truly understand this its best to begin at the classes beginning, the initialization phase.\n",
    "\n"
   ]
  },
  {
   "cell_type": "markdown",
   "metadata": {},
   "source": [
    "## Initializing the Empty  Class Object \\__init__()\n",
    "\n",
    "As soon as you instantiate an empty class object it looks for an initialization method which in some languages is called the constructor. In Python its a special method called \\__init__(). Since your object is inherited somewhere in its genealogy from object it has the ability to see this special method, which you should have guessed is a special function. It thus needs to be declared as a function and it must know who it belongs to (this is where the dangerous paths can come into play but for now we are just sitting in a sandbox and thus are safe.) \n",
    "\n",
    "The function call will look like this (note thats a double underscore on each side and it must be a double underscore!<br>\n",
    "\n",
    "```python\n",
    "class ClassName(object):\n",
    "    def __init__(self, <other initialization parameters>):\n",
    "        <init code line 1>\n",
    "            .\n",
    "        <last line of init code>    \n",
    "           \n",
    "        .\n",
    "        .\n",
    "        .\n",
    "    <last line of code>\n",
    "```\n",
    "\n",
    "Note that we can pass in additional parameters when we initialize out class."
   ]
  },
  {
   "cell_type": "markdown",
   "metadata": {},
   "source": [
    "### A Playground Class \n",
    "\n",
    "Just to push our sanity over the edge of oblivion,lets jump back to good ole LlamaLlama and now lets build a LlamaLlama class to better understand what you will be doing.\n",
    "\n",
    "### Exercise:\n",
    "\n",
    "- Create a new class named LlamaLlama which inherits from object. \n",
    "- Create an initilization function and pass an additional parameter in called 'name'.\n",
    "- If you want to actually execute the code without recieving an error add 'pass' as the one line of code in your function."
   ]
  },
  {
   "cell_type": "code",
   "execution_count": null,
   "metadata": {},
   "outputs": [],
   "source": []
  },
  {
   "cell_type": "markdown",
   "metadata": {},
   "source": [
    "## Member Variables\n",
    "\n",
    "Member variables are special variables which have a class wide scope. Meaning the for the given instance of the class any method can access it and use it for what ever nefarious purpose it wants. The one caveats it that being a member of the class, and again you can have MANY instances of your class, it has to now who it's mama Llama is!\n",
    "\n",
    "So if we wanted a class member variable for our class (say for name) we just need it to be prefaced with *self.* like so.\n",
    "\n",
    "```python\n",
    "self.name\n",
    "```\n",
    "\n",
    "Now since we have passed in the name as an initialization parameter we can assigned that to our member variable for every one else, in the class, to use.\n",
    "\n",
    "### Exercise:\n",
    "\n",
    "- Copy your LlamaLlama class above to the cell below\n",
    "- Create a new member variable for name and assign the passed in name to the new member variable.\n",
    "- If You added a 'pass' in previously, go ahead and delete it now.\n"
   ]
  },
  {
   "cell_type": "code",
   "execution_count": null,
   "metadata": {},
   "outputs": [],
   "source": []
  },
  {
   "cell_type": "markdown",
   "metadata": {},
   "source": [
    "There are some major caveats (and issues with Python) which we need to explore but lets build our class out a bit more so we can appreciate those issues better."
   ]
  },
  {
   "cell_type": "markdown",
   "metadata": {},
   "source": [
    "## Member functions\n",
    "\n",
    "Member functions are functions which are members of the class they live in (well, till they are not but that comes later!) As a member they also need to know who it's mama llama is and they do so with, yep you guessed it '*self*'.<br>\n",
    "For functions the very first parameter MUST include self (again till its not a member or is a \"special\" member but again - later).\n",
    "\n",
    "An example looks like this:\n",
    "```python\n",
    "def foo(self):\n",
    "    <the functions normal code lines>\n",
    "```"
   ]
  },
  {
   "cell_type": "markdown",
   "metadata": {},
   "source": [
    "### Exercise: \n",
    "- Below is slightly modified version of llamallamaName() function created earlier. \n",
    "- Add the LlamaLlama() class code you just create such that llamallamaName() becomes a member function.\n",
    "- Bonus: change the name (which I removed from the functions input parameter list) variable so it is now accessing the member variable you added in the last exercise."
   ]
  },
  {
   "cell_type": "code",
   "execution_count": null,
   "metadata": {},
   "outputs": [],
   "source": [
    "def llamallamaName():\n",
    "    \"\"\"Creates, displays and returns the LlamaLlama name passed in\n",
    "    \n",
    "    Parameters:\n",
    "        \n",
    "    Returns:\n",
    "    llamaName (string) - The translated LlamaLlama name\n",
    "    \"\"\"\n",
    "    \n",
    "    llamaName = ('LlamaLlama{}'.format(name))\n",
    "    print('My LlamaLlama name is {}'.format(llamaName))\n",
    "    return llamaName"
   ]
  },
  {
   "cell_type": "code",
   "execution_count": null,
   "metadata": {},
   "outputs": [],
   "source": [
    "        "
   ]
  },
  {
   "cell_type": "markdown",
   "metadata": {},
   "source": [
    "## \\__main__'s and Instantiating Your Class\n",
    "\n",
    "We have built a cute (yeah thats 'a' word for it) toy class and now we want to use it. As discussed we just need to create an instance of it and we are free to use it.\n",
    "\n",
    "BUT before we do that its time to discuss Pythons *extremely* messy world of the 'Main' function (and more specifically the lack there of).\n",
    " \n",
    "**Main()**<br>\n",
    "There probably is as many ways to create a main function as there are Python developers now wearing snuggely white jackets in a wall to wall, floor to ceiling cushioned room. In the end, in Python, there is nothing special about Main() and in fact you don't even need it! Main() can be called anything you want if you include it but we stick with Main() as thats what is the first.main controller for a full application (heck or even a simple script).\n",
    "\n",
    "What you do need to know and understand is this. As soon as you try to run your program (or script) the Python interpreter creates a few special variables one of those is \\__name__. \\__name__ automatically gets assigned the string value of '\\__main__'. This is kinda cool because we can tell the interpreter that some section of code should be the first bit of code to run, which is the purpose of having a main() function. The absence of it says that that bunch of code runs be dependently on calls to it.\n",
    "\n",
    "So while there are a bunch of ways including not using a main() we will, for this workshop use the intended and most correct method of calling a main function. Basically the setup looks like this:\n",
    "\n",
    "```python\n",
    "if __name__ == \"__main__\":\n",
    "    \n",
    "    <do something such as calling your controlling classes>\n",
    "```\n",
    "\n",
    "We have already discussed how to create an instance of a class. Inside the main() function it works exactly the same.\n",
    "\n"
   ]
  },
  {
   "cell_type": "markdown",
   "metadata": {},
   "source": [
    "### Exercise:\n",
    "- Create a main section of code\n",
    "- Create an instance of the LlamaLlama passing in a 'name' of your choice. Set the instance to ll.\n",
    "- Using you ll instance call the function llamallamaName(). This is exactly what yo do will all other Python code you have written.\n",
    "- Capture the returned variable from llamallamaName() with a var named llname.\n",
    "- Print llname"
   ]
  },
  {
   "cell_type": "code",
   "execution_count": null,
   "metadata": {},
   "outputs": [],
   "source": []
  },
  {
   "cell_type": "markdown",
   "metadata": {},
   "source": [
    "## Public vs the Python Illusion of Private\n",
    "\n",
    "In other major languages OOD and OOP rely on a critical component of OO religious belief and that is the concept of a ***private members***. Languages such as C\\C++ and Java depend on the concept of private members (both member variables an methods/functions). The reason for this is a safety measure, among other religious reasons. \n",
    "\n",
    "***Insert sad but true story for worst case coding scenario***\n",
    "For instance say you are writing code to control refrigerator temperatures for a microbiology laboratory. This refrigerator is destined to contain a multitude of different bacterial cultures. Since the lab I (err you) are working for is an independent, third party medical/pharmaceutical testing facility and thus you fall under the torture, err guidance of the FDA. So you have a controller class which will automatically adjust the temperature for you. The FDA states, and they are VERY strict on these things, that the refrigerator must maintain a temperature of 4 degrees C +/- 2 degrees C. Any deviation is a violation and requires instant and drastic measures.\n",
    "So some total idiot (not me at least point) writes the controller code and uses integers in the controller code within the LIMS system. You (OK it was me) writes the code that monitors the actual thermometer reading that gets dumped into the controller and wisely you (sorry, still me) uses floats. So all is great in the initial testing for some reason. Then a few months later a rather major company comes in for an audit and see the readings from the thermometer is almost a half degree over the limit and yet is not creating an all important error broadcast. All hell now breaks out because Bloody Mary (seriously thats what she was known as) from the FDA is on the way over and a nuclear blast directly on top of your head would be vastly funner.\n",
    "\n",
    "OK so what the heck does this have to do with private variables? In some sense nothing, but in the ideal case and in the on going religious debate it's all about on data validation. In essence you want your class to be a 100% clean and perfectly encapsulated environment. Inside the class you can maintain data within a specific format no problems. Once you send data into or out of the class you can no longer 100% guarantee that the data is 100% valid. \n",
    "\n",
    "***Worst Case Scenario 2***\n",
    "Need I remind you of an $125 million Mars spacecraft that crashed into the side of a Martian canyon as there one group that wrote code using stupid English measurements and another smarter group using metric measurements? The OO concept, if it were possible to actually adhere to 100% (its not) would have prevented such a tragic loose.\n",
    "\n",
    "The concept of private members means that the clean room environment inside a class can not be breached. Now lets talk about practically. When and why would you write a class that stand independent of everything else hiding out in the ether somewhere unmolested by anybody wanting something from it. The all important private variables and private methods can only be used by that class! You actually do indeed want to maintain that type of atmosphere inside you classes as much as possible. You do not want an incoming variable to corrupt the state that the class to maintain. \n",
    "\n",
    "The rub is languages such as Python, Julia, Lisp (in most if its many dialects) do not have private variables or methods. Yet the Python community recognizes we need some semblance of private so there is a naming strategy to aid in that Illusion.\n",
    "\n"
   ]
  },
  {
   "cell_type": "markdown",
   "metadata": {},
   "source": [
    "## Private Member Variables\n",
    "\n",
    "By convention private member variables are preceded with a underscore.\n",
    "\n",
    "```python\n",
    "self._llamallamaname = name\n",
    "```"
   ]
  },
  {
   "cell_type": "markdown",
   "metadata": {},
   "source": [
    "## Private Member Methods\n",
    "By convention private member methods are preceded by a double underscore.\n",
    "\n",
    "def __llamallamaGotcha(self):"
   ]
  },
  {
   "cell_type": "markdown",
   "metadata": {},
   "source": [
    "### A very little known secret\n",
    "\n",
    "Even in C++ private members is an illusion and can be defeated!"
   ]
  },
  {
   "cell_type": "markdown",
   "metadata": {},
   "source": [
    "## Setters and Getters\n",
    "\n",
    "So the 64 million dollar question is,if member variables are actually truly private then how does the outside world access them? The answer (which purists and theorists will argue with) is ***setters*** and ***getters***. For reasons discussed above, getters are not that big a sticky point. Its the setters that are controversial as often there is ZERO validation on the data as it comes in so your 4 feet may be treated as 4 meters. Opps, crash bang crack them up, Derby set, play again!\n",
    "\n",
    "There are a ton of methods for dealing with setters and getters. I'll introduce you to the most appropriate, spelled pythonic way to create them.\n",
    "\n",
    "Both setters and getters are actually created with decorators (remember @jit) which wraps the following function with the appropriate setter or getter code. They both rely on the fact that the private variable to be exposed is setup to be private (don't forget this is a illusionary convention!)."
   ]
  },
  {
   "cell_type": "markdown",
   "metadata": {},
   "source": [
    "## Getter Syntax\n",
    "\n",
    "The basic syntax of a getter is as follows (assume you have a member variable self._foo):\n",
    "```python\n",
    "@property\n",
    "def foo(self):\n",
    "    \"\"\" Getter which returns foo \"\"\"\n",
    "    return self._foo\n",
    "```\n"
   ]
  },
  {
   "cell_type": "markdown",
   "metadata": {},
   "source": [
    "## Setter Syntax\n",
    "\n",
    "The basic syntax of a setter is as follows (assume you have a member variable self.foo):\n",
    "```python\n",
    "@foo.setter\n",
    "def name(self, value):\n",
    "    \"\"\" Setter which sets the value input parameter to foo\"\"\"\n",
    "    self._foo = value\n",
    "```\n"
   ]
  },
  {
   "cell_type": "markdown",
   "metadata": {},
   "source": [
    "Firstly pay careful attention on where the underscore is used and where it is not. Basically only when you need directly interact with the private member do you have the underscore when creating getters and setters. The rest of the time you use the same name but without the underscore!\n",
    "\n",
    "Also notice the simplicity of the setter? It does absolutely no data validation what so ever. It can and it should but you will find, even in todays examples that it rarely happens in quick and dirty programming.  Heck I see it all the time in commercial production code! Hence the bitterness this subject often brings."
   ]
  },
  {
   "cell_type": "markdown",
   "metadata": {},
   "source": [
    "## Accessing Getters and Setters\n",
    "\n",
    "The trick of using the Setters and Getters is that you do not treat them as functions instead you access them directly via the class instance variable.\n",
    "\n",
    "**Example:*** Assume you have a class and its instantiated with a variable foobar.<br>\n",
    "```python\n",
    "#to get the value stored in foo\n",
    "myfoo = foobar.foo\n",
    "\n",
    "#To set the value of foo\n",
    "foobar.foo = \"my cool foo\"\n",
    "```\n"
   ]
  },
  {
   "cell_type": "markdown",
   "metadata": {},
   "source": [
    "### Exercise:\n",
    "- Copy your LlamaLlama class code to the cell below.\n",
    "- Add your main() code to the bottom of the cell.\n",
    "- Change the 'name' variable to make it a private member variable\n",
    "- Change 'llamaName' to also mae it a private member variable.\n",
    "- Create a getter and setter just for 'llamaName'\n",
    "- Remove the return for llamaName\n",
    "- Change your main to reflect the previous change (you are no longer returning anything)\n",
    "- Add a line in your main to get the value of llamaName from the class and save it in a new variable called 'llname'\n",
    "- Print 'llname'\n"
   ]
  },
  {
   "cell_type": "code",
   "execution_count": null,
   "metadata": {},
   "outputs": [],
   "source": []
  },
  {
   "cell_type": "markdown",
   "metadata": {},
   "source": [
    "Running your code should be all swell and dandy now try this.\n"
   ]
  },
  {
   "cell_type": "markdown",
   "metadata": {},
   "source": [
    "## Exercise:\n",
    "- Create a setter (and a setter only) for name.\n",
    "- Add a line into your main to send your new setter a new name."
   ]
  },
  {
   "cell_type": "code",
   "execution_count": null,
   "metadata": {},
   "outputs": [],
   "source": []
  },
  {
   "cell_type": "markdown",
   "metadata": {},
   "source": [
    "### What just happened?\n",
    "\n",
    "Python has this wonky, well not really it just feels that way sometimes, thing where you can create just a getter with no problems. However you can not create just a setter with no getter!\n",
    "\n",
    "***If you create a setter you MUST create a getter!***\n"
   ]
  },
  {
   "cell_type": "markdown",
   "metadata": {},
   "source": [
    "### Exercise:\n",
    "- Test this hypothesis by creating a getter for name and re run your code."
   ]
  },
  {
   "cell_type": "code",
   "execution_count": null,
   "metadata": {},
   "outputs": [],
   "source": []
  }
 ],
 "metadata": {
  "kernelspec": {
   "display_name": "Python 3",
   "language": "python",
   "name": "python3"
  },
  "language_info": {
   "codemirror_mode": {
    "name": "ipython",
    "version": 3
   },
   "file_extension": ".py",
   "mimetype": "text/x-python",
   "name": "python",
   "nbconvert_exporter": "python",
   "pygments_lexer": "ipython3",
   "version": "3.6.5"
  }
 },
 "nbformat": 4,
 "nbformat_minor": 2
}
